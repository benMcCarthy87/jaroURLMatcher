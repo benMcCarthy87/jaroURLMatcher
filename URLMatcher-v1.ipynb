{
  "nbformat": 4,
  "nbformat_minor": 0,
  "metadata": {
    "colab": {
      "name": "URLMatcher.ipynb",
      "provenance": [],
      "authorship_tag": "ABX9TyOhCsVxISirFAzaDTuDMj+e",
      "include_colab_link": true
    },
    "kernelspec": {
      "name": "python3",
      "display_name": "Python 3"
    }
  },
  "cells": [
    {
      "cell_type": "markdown",
      "metadata": {
        "id": "view-in-github",
        "colab_type": "text"
      },
      "source": [
        "<a href=\"https://colab.research.google.com/github/benMcCarthy87/jaroURLMatcher/blob/main/URLMatcher-v1.ipynb\" target=\"_parent\"><img src=\"https://colab.research.google.com/assets/colab-badge.svg\" alt=\"Open In Colab\"/></a>"
      ]
    },
    {
      "cell_type": "code",
      "metadata": {
        "id": "Jn4OCldKhVbx"
      },
      "source": [
        "import os\n",
        "import matplotlib.pyplot as plt\n",
        "import tensorflow as tf\n",
        "import pandas as pd\n",
        "import io\n",
        "import numpy as np\n",
        "from google.colab import files\n",
        "from google.colab import drive\n",
        "\n",
        "'''\n",
        "If the below is True, matches scored 'above average' will be removed from the list to match with, this will speed up the process of matching remaining URLs\n",
        "This is a bad option if you have few URL changes, or if you have consolidated URLs so there will be multiple matches to your new URL.\n",
        "'''\n",
        "remove_urls = True\n",
        "\n",
        "'''\n",
        "If the below is True, if a match scored above average, it will return this and not check the rest of the list. If this is false URLs the above remove_urls\n",
        "option will become irrelevant - URLs won't be removed when found.\n",
        "'''\n",
        "\n",
        "match_if_above_ave = True"
      ],
      "execution_count": 1,
      "outputs": []
    },
    {
      "cell_type": "code",
      "metadata": {
        "colab": {
          "resources": {
            "http://localhost:8080/nbextensions/google.colab/files.js": {
              "data": "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",
              "ok": true,
              "headers": [
                [
                  "content-type",
                  "application/javascript"
                ]
              ],
              "status": 200,
              "status_text": ""
            }
          },
          "base_uri": "https://localhost:8080/",
          "height": 72
        },
        "id": "1U7q02sDkxZR",
        "outputId": "186730ac-2537-45a9-c034-e3b2d6e84231"
      },
      "source": [
        "#Upload URLs (CSV named urls.csv)\n",
        "\n",
        "uploaded = files.upload()\n"
      ],
      "execution_count": 2,
      "outputs": [
        {
          "output_type": "display_data",
          "data": {
            "text/html": [
              "\n",
              "     <input type=\"file\" id=\"files-ceda24ea-e72d-425f-9897-84fb3fcfdc04\" name=\"files[]\" multiple disabled\n",
              "        style=\"border:none\" />\n",
              "     <output id=\"result-ceda24ea-e72d-425f-9897-84fb3fcfdc04\">\n",
              "      Upload widget is only available when the cell has been executed in the\n",
              "      current browser session. Please rerun this cell to enable.\n",
              "      </output>\n",
              "      <script src=\"/nbextensions/google.colab/files.js\"></script> "
            ],
            "text/plain": [
              "<IPython.core.display.HTML object>"
            ]
          },
          "metadata": {
            "tags": []
          }
        },
        {
          "output_type": "stream",
          "text": [
            "Saving urls.csv to urls (14).csv\n"
          ],
          "name": "stdout"
        }
      ]
    },
    {
      "cell_type": "code",
      "metadata": {
        "id": "vhAxI7Jek2OG",
        "colab": {
          "base_uri": "https://localhost:8080/"
        },
        "outputId": "0dc99e9c-7244-4e5f-dbad-87b4f151c0a0"
      },
      "source": [
        "#Create dataframe\n",
        "\n",
        "df = pd.read_csv(io.BytesIO(uploaded['urls.csv']))\n",
        "print(df[:10])"
      ],
      "execution_count": 3,
      "outputs": [
        {
          "output_type": "stream",
          "text": [
            "                                            old_URLs                                           new_URLs\n",
            "0      http://www.examplegroup.com/en/group/profile/     http://www.example-group.com/en/group/profile/\n",
            "1  https://www.examplegroup.com/en/media/mediacon...  https://www.example-group.com/en/media/media-c...\n",
            "2  https://www.examplegroup.com/en/sustainability...  https://www.example-group.com/en/sustainabilit...\n",
            "3             https://www.example.com/us/accessories       https://www.example.com/usa/shop/accessories\n",
            "4         https://www.example.com/us/adicolorapparel  https://www.example.com/usa/shop/adicolor-apparel\n",
            "5         https://www.example.com/us/example_outdoor           https://www.example.com/usa/shop/apparel\n",
            "6                 https://www.example.com/us/apparel          https://www.example.com/usa/shop/baseball\n",
            "7                https://www.example.com/us/baseball        https://www.example.com/usa/shop/basketball\n",
            "8              https://www.example.com/us/basketball      https://www.example.com/usa/shop/best-sellers\n",
            "9            https://www.example.com/us/best_sellers              https://www.example.com/usa/shop/blog\n"
          ],
          "name": "stdout"
        }
      ]
    },
    {
      "cell_type": "code",
      "metadata": {
        "id": "PZ3d5dkT5j64"
      },
      "source": [
        "from math import floor, ceil \n",
        "\n",
        "#The Jaro distance is a measure of similarity between two strings. The higher the Jaro distance for two strings is, the more similar the strings are.\n",
        "#The below function uses Jaro–Winkler similarity where 1 means an exact match and 0 means there is no similarity.\n",
        "\n",
        "def jaro_distance(s1, s2): \n",
        "    if (s1 == s2): \n",
        "        return 1.0\n",
        "    len1 = len(s1) \n",
        "    len2 = len(s2) \n",
        "    max_dist = floor(max(len1, len2) / 2) - 1\n",
        "    match = 0 \n",
        "    hash_s1 = [0] * len(s1) \n",
        "    hash_s2 = [0] * len(s2) \n",
        "    for i in range(len1): \n",
        "        for j in range(max(0, i - max_dist),  \n",
        "                       min(len2, i + max_dist + 1)): \n",
        "            if (s1[i] == s2[j] and hash_s2[j] == 0): \n",
        "                hash_s1[i] = 1\n",
        "                hash_s2[j] = 1\n",
        "                match += 1\n",
        "                break\n",
        "    if (match == 0): \n",
        "        return 0.0\n",
        "    t = 0\n",
        "    point = 0\n",
        "    for i in range(len1): \n",
        "        if (hash_s1[i]): \n",
        "            while (hash_s2[point] == 0): \n",
        "                point += 1\n",
        "            if (s1[i] != s2[point]): \n",
        "                point += 1\n",
        "                t += 1\n",
        "    t = t//2\n",
        "    return (match/ len1 + match / len2 + \n",
        "            (match - t + 1) / match)/ 3.0\n"
      ],
      "execution_count": 4,
      "outputs": []
    },
    {
      "cell_type": "code",
      "metadata": {
        "id": "Xlg9LU_fsj6i"
      },
      "source": [
        "i = 0\n",
        "all_distances = [0]\n",
        "hld = 0\n",
        "\n",
        "#function finds the best match using the above Jaro–Winkler distance function.\n",
        "\n",
        "def get_url(urlO):\n",
        "    hld = 0\n",
        "    bm = 'NO URL'\n",
        "    for  urlN in new_urls:\n",
        "      ld = jaro_distance(str(urlO), str(urlN))\n",
        "      simil = ld\n",
        "      if ld > hld:\n",
        "        hld = ld\n",
        "        bm = urlN\n",
        "        if ld > np.mean(all_distances) and len(all_distances) > 10 and len(bm) > 3 and len(new_urls) > 100:\n",
        "          print('Found above average match')\n",
        "          if remove_urls == True:\n",
        "            new_urls.remove(bm)\n",
        "            print('removed ' + bm)\n",
        "            print(str(len(new_urls)) + ' left in new URLs')\n",
        "          return bm\n",
        "    all_distances.append(hld)\n",
        "    return bm\n",
        "     "
      ],
      "execution_count": 5,
      "outputs": []
    },
    {
      "cell_type": "code",
      "metadata": {
        "id": "9CiWIbLQrfKT",
        "colab": {
          "base_uri": "https://localhost:8080/"
        },
        "outputId": "01821d18-83e3-4896-d24c-8def7aed62d8"
      },
      "source": [
        "matched_urls = []\n",
        "old_urls = df['old_URLs'].tolist()\n",
        "new_urls = df['new_URLs'].tolist()\n",
        "\n",
        "#Remove unchanged URLs\n",
        "\n",
        "old_out = []\n",
        "matched_out = []\n",
        "for old in old_urls:\n",
        "  if old in new_urls:\n",
        "      old_out.append(old)\n",
        "      old_urls.remove(old)\n",
        "      matched_out.append(old)\n",
        "      new_urls.remove(old)\n",
        "\n",
        "#Loop through old URLs, using the get_url function to find the bestmatch\n",
        "\n",
        "for urlO in old_urls:\n",
        "  bm = get_url(urlO)\n",
        "  matched_urls.append(bm)\n",
        "  print(str(urlO) + ' matched with ' + str(bm))\n",
        "  i += 1\n",
        "  print(i, end = '')\n",
        "  print(' of ', end = '')\n",
        "  print(len(old_urls))\n",
        "\n",
        "\n",
        "#Create new dataframe, add old urls and matched new ones.\n",
        "\n",
        "df_Results = pd.DataFrame(old_urls,columns=['old_urls'])\n",
        "df_Results.insert(1, 'matched_urls', matched_urls, True)\n",
        "\n"
      ],
      "execution_count": 6,
      "outputs": [
        {
          "output_type": "stream",
          "text": [
            "http://www.examplegroup.com/en/group/profile/ matched with http://www.example-group.com/en/group/profile/\n",
            "1 of 21\n",
            "https://www.examplegroup.com/en/media/mediacontact/ matched with https://www.example-group.com/en/media/media-contact/\n",
            "2 of 21\n",
            "https://www.examplegroup.com/en/sustainability/people/factoryworkers/ matched with https://www.example-group.com/en/sustainability/people/factory-workers/\n",
            "3 of 21\n",
            "https://www.example.com/us/accessories matched with https://www.example.com/usa/shop/accessories\n",
            "4 of 21\n",
            "https://www.example.com/us/adicolorapparel matched with https://www.example.com/usa/shop/adicolor-apparel\n",
            "5 of 21\n",
            "https://www.example.com/us/example_outdoor matched with https://www.example.com/usa/shop/example-outdoor\n",
            "6 of 21\n",
            "https://www.example.com/us/apparel matched with https://www.example.com/usa/shop/apparel\n",
            "7 of 21\n",
            "https://www.example.com/us/baseball matched with https://www.example.com/usa/shop/baseball\n",
            "8 of 21\n",
            "https://www.example.com/us/basketball matched with https://www.example.com/usa/shop/basketball\n",
            "9 of 21\n",
            "https://www.example.com/us/best_sellers matched with https://www.example.com/usa/shop/best-sellers\n",
            "10 of 21\n",
            "https://www.example.com/us/blog matched with https://www.example.com/usa/shop/blog\n",
            "11 of 21\n",
            "https://www.example.com/us/blog/444197 matched with https://www.example.com/usa/shop/blog/444197\n",
            "12 of 21\n",
            "https://www.example.com/us/blog/532007 matched with https://www.example.com/usa/shop/blog/532007\n",
            "13 of 21\n",
            "https://www.example.com/us/creatorsclub matched with https://www.example.com/usa/shop/creatorsclub\n",
            "14 of 21\n",
            "https://www.example.com/us/eqtshoes matched with https://www.example.com/usa/shop/eqt-shoes\n",
            "15 of 21\n",
            "https://www.example.com/us/football matched with https://www.example.com/usa/shop/football\n",
            "16 of 21\n",
            "https://www.example.com/us/gazelleshoes matched with https://www.example.com/usa/shop/gazelle-shoes\n",
            "17 of 21\n",
            "https://www.example.com/us/giftcards matched with https://www.example.com/usa/shop/giftcards\n",
            "18 of 21\n",
            "https://www.example.com/us/golf matched with https://www.example.com/usa/shop/golf\n",
            "19 of 21\n",
            "https://www.example.com/us/help matched with https://www.example.com/usa/shop/help\n",
            "20 of 21\n",
            "https://www.example.com/us/help?haid=whatisouraffiliateprogram matched with https://www.example.com/usa/shop/help?haid=what-is-our-affiliate-program\n",
            "21 of 21\n"
          ],
          "name": "stdout"
        }
      ]
    },
    {
      "cell_type": "code",
      "metadata": {
        "id": "AoTzwYyu-i_e"
      },
      "source": [
        "#Mount Google Drive\n",
        "\n",
        "drive.mount('drive')"
      ],
      "execution_count": null,
      "outputs": []
    },
    {
      "cell_type": "code",
      "metadata": {
        "id": "DT25rJ8gvS2K"
      },
      "source": [
        "#Save results as CSV in Drive\n",
        "\n",
        "df_Results.to_csv('URL_Migration_Results.csv')\n",
        "!cp URL_Migration_Results.csv \"drive/My Drive/\""
      ],
      "execution_count": 8,
      "outputs": []
    }
  ]
}